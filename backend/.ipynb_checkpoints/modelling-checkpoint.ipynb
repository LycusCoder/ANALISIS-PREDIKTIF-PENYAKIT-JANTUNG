{
 "cells": [
  {
   "cell_type": "markdown",
   "id": "c2042eef-51fd-43f0-8f68-59c90a90e815",
   "metadata": {},
   "source": [
    "### BAGIAN 1: PERSIAPAN & PEMBERSIHAN DATA 🚀\n",
    "Bagian ini menguraikan tahapan krusial dalam pra-pemrosesan data. Proses diawali dengan akuisisi dan penggabungan data mentah dari berbagai file sumber menjadi satu dataset komprehensif. Selanjutnya, dilakukan inspeksi awal untuk memahami struktur data dan mengidentifikasi keberadaan nilai-nilai yang hilang (missing values). Sesuai dengan metodologi yang telah ditetapkan, langkah pembersihan data melibatkan penghapusan baris yang memiliki nilai tidak lengkap (incomplete rows) untuk memastikan kualitas dan kelengkapan data sebelum pemodelan."
   ]
  },
  {
   "cell_type": "code",
   "execution_count": null,
   "id": "ca1a791c-76dc-40e6-88e2-092f58785afb",
   "metadata": {},
   "outputs": [],
   "source": [
    "import pandas as pd\n",
    "import numpy as np\n",
    "import os\n",
    "\n",
    "#--- [SETUP AWAL] Definisikan nama kolom sesuai dokumentasi dataset ---\n",
    "# Ini penting biar DataFrame kita punya header yang jelas.\n",
    "column_names = [\n",
    "    'age', 'sex', 'cp', 'trestbps', 'chol', 'fbs', 'restecg', \n",
    "    'thalach', 'exang', 'oldpeak', 'slope', 'ca', 'thal', 'num'\n",
    "]\n",
    "\n",
    "#--- [PENGUMPULAN DATA] Fungsi untuk memuat data dari satu file ---\n",
    "def load_data(file_path):\n",
    "    \"\"\"Fungsi ini memuat satu file CSV, ngasih nama kolom,\n",
    "    dan otomatis ngenalin '?' sebagai nilai NaN (Not a Number).\"\"\"\n",
    "    try:\n",
    "        return pd.read_csv(file_path, header=None, names=column_names, na_values='?')\n",
    "    except FileNotFoundError:\n",
    "        print(f\"⚠️ File {file_path} tidak ditemukan. Melewati...\")\n",
    "        return None\n",
    "\n",
    "# --- [PENGGABUNGAN DATA] Muat dan gabungkan semua dataset ---\n",
    "data_path = 'data/heart+disease/' \n",
    "df_cleveland = load_data(os.path.join(data_path, 'processed.cleveland.data'))\n",
    "df_hungarian = load_data(os.path.join(data_path, 'processed.hungarian.data'))\n",
    "df_switzerland = load_data(os.path.join(data_path, 'processed.switzerland.data'))\n",
    "df_va = load_data(os.path.join(data_path, 'processed.va.data'))\n",
    "\n",
    "# Gabungkan semua DataFrame yang berhasil dimuat\n",
    "list_of_dfs = [df for df in [df_cleveland, df_hungarian, df_switzerland, df_va] if df is not None]\n",
    "if not list_of_dfs:\n",
    "    raise ValueError(\"Tidak ada dataset yang berhasil dimuat. Periksa kembali path folder data Anda.\")\n",
    "    \n",
    "df_full = pd.concat(list_of_dfs, ignore_index=True)\n",
    "\n",
    "print(f\"✅ Total data mentah yang berhasil digabungkan: {df_full.shape[0]} baris dan {df_full.shape[1]} kolom.\")\n",
    "print(\"\\n--- Analisis Data Mentah (Sebelum Cleaning) ---\")\n",
    "\n",
    "# Cek jumlah & persentase missing values, persis kayak di laporan (Gambar 3)\n",
    "print(\"\\nJumlah Missing Values di Setiap Kolom:\")\n",
    "print(df_full.isnull().sum())\n",
    "print(\"\\nPersentase Missing Values di Setiap Kolom (%):\")\n",
    "print(round((df_full.isnull().sum() / len(df_full)) * 100, 2))\n",
    "\n",
    "# Ekspor data mentah (sebelum dibersihkan) untuk arsip\n",
    "output_filename_non_clean = 'dataset_prediksi_jantung_non_clean.csv'\n",
    "df_full.to_csv(output_filename_non_clean, index=False)\n",
    "print(f\"\\n✅ Data mentah telah berhasil diekspor ke '{output_filename_non_clean}'.\")\n",
    "\n",
    "#--- [PEMBERSIHAN DATA] ---\n",
    "print(\"\\n--- Memulai Proses Pembersihan Data ---\")\n",
    "\n",
    "# Sesuai laporan, kita pakai metode drop untuk menangani missing value\n",
    "df_cleaned = df_full.dropna().copy() # .copy() untuk menghindari SettingWithCopyWarning\n",
    "print(f\"Jumlah baris setelah menghapus missing values: {df_cleaned.shape[0]}\")\n",
    "\n",
    "# Verifikasi ulang, mastiin udah nggak ada missing value (seperti di Gambar 4)\n",
    "print(\"\\nJumlah missing values setelah pembersihan:\")\n",
    "print(df_cleaned.isnull().sum())\n",
    "if df_cleaned.isnull().sum().sum() == 0:\n",
    "    print(\"✅ Konfirmasi: Tidak ada lagi missing values dalam data.\")\n",
    "\n",
    "# Ekspor data yang sudah bersih dan siap untuk pemodelan\n",
    "output_filename_clean = 'dataset_prediksi_jantung_clean.csv'\n",
    "df_cleaned.to_csv(output_filename_clean, index=False)\n",
    "print(f\"\\n✅ Data bersih telah berhasil diekspor ke '{output_filename_clean}'. Selesai untuk Bagian 1!\")"
   ]
  }
 ],
 "metadata": {
  "kernelspec": {
   "display_name": "Python 3 (ipykernel)",
   "language": "python",
   "name": "python3"
  },
  "language_info": {
   "codemirror_mode": {
    "name": "ipython",
    "version": 3
   },
   "file_extension": ".py",
   "mimetype": "text/x-python",
   "name": "python",
   "nbconvert_exporter": "python",
   "pygments_lexer": "ipython3",
   "version": "3.10.11"
  }
 },
 "nbformat": 4,
 "nbformat_minor": 5
}
