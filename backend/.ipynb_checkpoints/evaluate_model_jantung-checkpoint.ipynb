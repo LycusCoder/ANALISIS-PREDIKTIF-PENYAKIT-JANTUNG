{
 "cells": [
  {
   "cell_type": "markdown",
   "id": "96311c4e-0ec7-4f04-b25f-324cd1097633",
   "metadata": {},
   "source": [
    "# 🏆 1. Setup & Memuat Data Uji\n",
    "\n",
    "Selamat datang di notebook evaluasi! Di sini, kita tidak akan melakukan *training* sama sekali. Tugas kita adalah memuat model-model yang sudah jadi dan data uji (*test set*) untuk melihat performa mereka di dunia nyata (data yang belum pernah mereka lihat).\n",
    "\n",
    "**Prasyarat:** Pastikan kita sudah menyimpan `X_test` dan `y_test` dari notebook training."
   ]
  },
  {
   "cell_type": "code",
   "execution_count": 1,
   "id": "8ad3d894-b538-4bb5-8759-440bc88a00c1",
   "metadata": {},
   "outputs": [
    {
     "name": "stdout",
     "output_type": "stream",
     "text": [
      "✅ Data Uji (X_test, y_test) berhasil dimuat.\n",
      "Bentuk X_test: (75, 13)\n",
      "Bentuk y_test: (75,)\n"
     ]
    }
   ],
   "source": [
    "import pandas as pd\n",
    "import numpy as np\n",
    "import matplotlib.pyplot as plt\n",
    "import seaborn as sns\n",
    "import os\n",
    "import pickle\n",
    "\n",
    "# Import semua metrik yang akan kita gunakan\n",
    "from sklearn.metrics import (\n",
    "    accuracy_score, \n",
    "    precision_score, \n",
    "    recall_score, \n",
    "    f1_score, \n",
    "    roc_auc_score,\n",
    "    classification_report,\n",
    "    confusion_matrix\n",
    ")\n",
    "\n",
    "# Setting style untuk plot\n",
    "sns.set_theme(style=\"whitegrid\")\n",
    "\n",
    "# --- Muat Data Uji ---\n",
    "# Simpan X_test dan y_test ke CSV di notebook training kita, lalu muat di sini.\n",
    "# Contoh: X_test.to_csv('X_test.csv', index=False)\n",
    "try:\n",
    "    X_test = pd.read_csv('training/X_test.csv')\n",
    "    y_test = pd.read_csv('training/y_test.csv').squeeze() # .squeeze() untuk mengubahnya jadi Series\n",
    "    print(\"✅ Data Uji (X_test, y_test) berhasil dimuat.\")\n",
    "    print(f\"Bentuk X_test: {X_test.shape}\")\n",
    "    print(f\"Bentuk y_test: {y_test.shape}\")\n",
    "except FileNotFoundError:\n",
    "    print(\"❌ ERROR: File X_test.csv atau y_test.csv tidak ditemukan. Mohon simpan terlebih dahulu dari notebook training.\")"
   ]
  },
  {
   "cell_type": "markdown",
   "id": "4beaabb6-957f-4de2-9222-85135afd9231",
   "metadata": {},
   "source": [
    "# 📂 2. Memuat Semua Model Kandidat\n",
    "\n",
    "Sekarang kita panggil semua \"petarung\" kita dari file `.pkl`. Kita akan memuat 2 set model:\n",
    "1.  **Baseline:** Model dengan parameter default.\n",
    "2.  **Optimized:** Model yang sudah di-tuning dengan GridSearchCV."
   ]
  },
  {
   "cell_type": "code",
   "execution_count": 2,
   "id": "5f9b0fd1-e35b-4d69-96eb-11967bfdb521",
   "metadata": {},
   "outputs": [
    {
     "name": "stdout",
     "output_type": "stream",
     "text": [
      "✅ Berhasil memuat 8 model.\n",
      "- Logistic Regression (Baseline)\n",
      "- Random Forest (Baseline)\n",
      "- Svc (Baseline)\n",
      "- Xgboost (Baseline)\n",
      "- Logistic Regression (Optimized)\n",
      "- Random Forest (Optimized)\n",
      "- Svc (Optimized)\n",
      "- Xgboost (Optimized)\n"
     ]
    }
   ],
   "source": [
    "# Definisikan path ke folder model\n",
    "dir_baseline = 'models/jantung/belum-optimize'\n",
    "dir_optimized_non_pca = 'models/jantung/non_pca' \n",
    "# Kita asumsikan ini folder yang benar untuk model non-pca yang dioptimasi\n",
    "\n",
    "# List untuk menampung semua model yang dimuat\n",
    "all_models = []\n",
    "\n",
    "# Muat model baseline\n",
    "for file in os.listdir(dir_baseline):\n",
    "    if file.endswith('.pkl'):\n",
    "        model_name = file.replace('_basic.pkl', '').replace('_', ' ').title()\n",
    "        with open(os.path.join(dir_baseline, file), 'rb') as f:\n",
    "            model = pickle.load(f)\n",
    "            all_models.append({'name': model_name, 'type': 'Baseline', 'model': model})\n",
    "\n",
    "# Muat model optimized non-pca\n",
    "for file in os.listdir(dir_optimized_non_pca):\n",
    "    if file.endswith('.pkl'):\n",
    "        model_name = file.replace('_optimized.pkl', '').replace('_', ' ').title()\n",
    "        with open(os.path.join(dir_optimized_non_pca, file), 'rb') as f:\n",
    "            model = pickle.load(f)\n",
    "            all_models.append({'name': model_name, 'type': 'Optimized', 'model': model})\n",
    "\n",
    "print(f\"✅ Berhasil memuat {len(all_models)} model.\")\n",
    "for m in all_models:\n",
    "    print(f\"- {m['name']} ({m['type']})\")"
   ]
  },
  {
   "cell_type": "markdown",
   "id": "80a62d80-0af4-482d-b0d0-c2815e15aab2",
   "metadata": {},
   "source": [
    "# 📊 3. Evaluasi & Perbandingan Kinerja\n",
    "\n",
    "Saatnya mengadu semua model! Kita akan membuat prediksi pada `X_test` dan menghitung semua metrik penting untuk setiap model. Hasilnya akan kita simpan dalam sebuah DataFrame untuk analisis."
   ]
  },
  {
   "cell_type": "code",
   "execution_count": 3,
   "id": "5d3906c2-7de0-4527-9703-1d2a1d1db99b",
   "metadata": {},
   "outputs": [
    {
     "name": "stdout",
     "output_type": "stream",
     "text": [
      "✅ Evaluasi semua model selesai.\n"
     ]
    },
    {
     "data": {
      "text/html": [
       "<div>\n",
       "<style scoped>\n",
       "    .dataframe tbody tr th:only-of-type {\n",
       "        vertical-align: middle;\n",
       "    }\n",
       "\n",
       "    .dataframe tbody tr th {\n",
       "        vertical-align: top;\n",
       "    }\n",
       "\n",
       "    .dataframe thead th {\n",
       "        text-align: right;\n",
       "    }\n",
       "</style>\n",
       "<table border=\"1\" class=\"dataframe\">\n",
       "  <thead>\n",
       "    <tr style=\"text-align: right;\">\n",
       "      <th></th>\n",
       "      <th>Model</th>\n",
       "      <th>Tipe</th>\n",
       "      <th>Accuracy</th>\n",
       "      <th>Precision</th>\n",
       "      <th>Recall</th>\n",
       "      <th>F1-Score</th>\n",
       "      <th>ROC-AUC</th>\n",
       "    </tr>\n",
       "  </thead>\n",
       "  <tbody>\n",
       "    <tr>\n",
       "      <th>0</th>\n",
       "      <td>Logistic Regression</td>\n",
       "      <td>Baseline</td>\n",
       "      <td>0.826667</td>\n",
       "      <td>0.843750</td>\n",
       "      <td>0.771429</td>\n",
       "      <td>0.805970</td>\n",
       "      <td>0.930000</td>\n",
       "    </tr>\n",
       "    <tr>\n",
       "      <th>4</th>\n",
       "      <td>Logistic Regression</td>\n",
       "      <td>Optimized</td>\n",
       "      <td>0.826667</td>\n",
       "      <td>0.843750</td>\n",
       "      <td>0.771429</td>\n",
       "      <td>0.805970</td>\n",
       "      <td>0.930714</td>\n",
       "    </tr>\n",
       "    <tr>\n",
       "      <th>1</th>\n",
       "      <td>Random Forest</td>\n",
       "      <td>Baseline</td>\n",
       "      <td>0.840000</td>\n",
       "      <td>0.925926</td>\n",
       "      <td>0.714286</td>\n",
       "      <td>0.806452</td>\n",
       "      <td>0.909643</td>\n",
       "    </tr>\n",
       "    <tr>\n",
       "      <th>5</th>\n",
       "      <td>Random Forest</td>\n",
       "      <td>Optimized</td>\n",
       "      <td>0.800000</td>\n",
       "      <td>0.833333</td>\n",
       "      <td>0.714286</td>\n",
       "      <td>0.769231</td>\n",
       "      <td>0.913214</td>\n",
       "    </tr>\n",
       "    <tr>\n",
       "      <th>2</th>\n",
       "      <td>Svc</td>\n",
       "      <td>Baseline</td>\n",
       "      <td>0.826667</td>\n",
       "      <td>0.866667</td>\n",
       "      <td>0.742857</td>\n",
       "      <td>0.800000</td>\n",
       "      <td>0.936429</td>\n",
       "    </tr>\n",
       "    <tr>\n",
       "      <th>6</th>\n",
       "      <td>Svc</td>\n",
       "      <td>Optimized</td>\n",
       "      <td>0.840000</td>\n",
       "      <td>0.870968</td>\n",
       "      <td>0.771429</td>\n",
       "      <td>0.818182</td>\n",
       "      <td>0.940000</td>\n",
       "    </tr>\n",
       "    <tr>\n",
       "      <th>3</th>\n",
       "      <td>Xgboost</td>\n",
       "      <td>Baseline</td>\n",
       "      <td>0.813333</td>\n",
       "      <td>0.838710</td>\n",
       "      <td>0.742857</td>\n",
       "      <td>0.787879</td>\n",
       "      <td>0.893571</td>\n",
       "    </tr>\n",
       "    <tr>\n",
       "      <th>7</th>\n",
       "      <td>Xgboost</td>\n",
       "      <td>Optimized</td>\n",
       "      <td>0.786667</td>\n",
       "      <td>0.827586</td>\n",
       "      <td>0.685714</td>\n",
       "      <td>0.750000</td>\n",
       "      <td>0.867857</td>\n",
       "    </tr>\n",
       "  </tbody>\n",
       "</table>\n",
       "</div>"
      ],
      "text/plain": [
       "                 Model       Tipe  Accuracy  Precision    Recall  F1-Score  \\\n",
       "0  Logistic Regression   Baseline  0.826667   0.843750  0.771429  0.805970   \n",
       "4  Logistic Regression  Optimized  0.826667   0.843750  0.771429  0.805970   \n",
       "1        Random Forest   Baseline  0.840000   0.925926  0.714286  0.806452   \n",
       "5        Random Forest  Optimized  0.800000   0.833333  0.714286  0.769231   \n",
       "2                  Svc   Baseline  0.826667   0.866667  0.742857  0.800000   \n",
       "6                  Svc  Optimized  0.840000   0.870968  0.771429  0.818182   \n",
       "3              Xgboost   Baseline  0.813333   0.838710  0.742857  0.787879   \n",
       "7              Xgboost  Optimized  0.786667   0.827586  0.685714  0.750000   \n",
       "\n",
       "    ROC-AUC  \n",
       "0  0.930000  \n",
       "4  0.930714  \n",
       "1  0.909643  \n",
       "5  0.913214  \n",
       "2  0.936429  \n",
       "6  0.940000  \n",
       "3  0.893571  \n",
       "7  0.867857  "
      ]
     },
     "metadata": {},
     "output_type": "display_data"
    }
   ],
   "source": [
    "# List untuk menampung hasil performa\n",
    "performance_results = []\n",
    "\n",
    "# Evaluasi setiap model\n",
    "for item in all_models:\n",
    "    model = item['model']\n",
    "    \n",
    "    y_pred = model.predict(X_test)\n",
    "    y_prob = model.predict_proba(X_test)[:, 1] # Probabilitas untuk kelas 1 (sakit)\n",
    "    \n",
    "    performance_results.append({\n",
    "        'Model': item['name'],\n",
    "        'Tipe': item['type'],\n",
    "        'Accuracy': accuracy_score(y_test, y_pred),\n",
    "        'Precision': precision_score(y_test, y_pred),\n",
    "        'Recall': recall_score(y_test, y_pred),\n",
    "        'F1-Score': f1_score(y_test, y_pred),\n",
    "        'ROC-AUC': roc_auc_score(y_test, y_prob)\n",
    "    })\n",
    "\n",
    "# Buat DataFrame dari hasil performa\n",
    "df_performance = pd.DataFrame(performance_results)\n",
    "\n",
    "print(\"✅ Evaluasi semua model selesai.\")\n",
    "display(df_performance.sort_values(by=['Model', 'Tipe']))"
   ]
  },
  {
   "cell_type": "markdown",
   "id": "c3878f04-8f69-4cbe-af95-07787cafe185",
   "metadata": {},
   "source": [
    "# 📈 4. Visualisasi Perbandingan\n",
    "\n",
    "Angka-angka di tabel memang bagus, tapi visualisasi akan membuat perbandingannya jauh lebih jelas. Kita akan buat bar chart untuk membandingkan semua model."
   ]
  },
  {
   "cell_type": "code",
   "execution_count": 4,
   "id": "68723359-3c4e-4170-8885-bb3994f6fb4c",
   "metadata": {},
   "outputs": [
    {
     "data": {
      "image/png": "[encoded data removed]",
      "text/plain": [
       "<Figure size 1800x1000 with 1 Axes>"
      ]
     },
     "metadata": {},
     "output_type": "display_data"
    }
   ],
   "source": [
    "# Siapkan data untuk plotting\n",
    "df_melted = df_performance.melt(id_vars=['Model', 'Tipe'], var_name='Metric', value_name='Score')\n",
    "\n",
    "# Buat plot\n",
    "plt.figure(figsize=(18, 10))\n",
    "ax = sns.barplot(data=df_melted, x='Metric', y='Score', hue='Model', palette='plasma')\n",
    "\n",
    "plt.title('Perbandingan Kinerja Semua Model (Baseline vs Optimized)', fontsize=18, weight='bold')\n",
    "plt.ylabel('Skor', fontsize=12)\n",
    "plt.xlabel('Metrik Evaluasi', fontsize=12)\n",
    "plt.xticks(rotation=0, ha='center', fontsize=11)\n",
    "plt.ylim(0, 1.0)\n",
    "plt.legend(title='Model', bbox_to_anchor=(1.02, 1), loc='upper left')\n",
    "\n",
    "# Tambahkan label angka di atas bar\n",
    "for p in ax.patches:\n",
    "    ax.annotate(f'{p.get_height():.2f}', \n",
    "                (p.get_x() + p.get_width() / 2., p.get_height()), \n",
    "                ha='center', va='center', \n",
    "                xytext=(0, 9), \n",
    "                textcoords='offset points',\n",
    "                fontsize=9)\n",
    "\n",
    "plt.tight_layout()\n",
    "plt.show()"
   ]
  },
  {
   "cell_type": "markdown",
   "id": "0517e56d-20c0-4c0b-940a-5413e2c6c48b",
   "metadata": {},
   "source": [
    "# 🧠 5. Analisis & Rekomendasi Model Terbaik\n",
    "\n",
    "Dari tabel dan grafik di atas, kita bisa menarik kesimpulan dan memberikan rekomendasi model mana yang paling cocok untuk masalah ini."
   ]
  },
  {
   "cell_type": "code",
   "execution_count": 5,
   "id": "a672f174-59f5-4a87-b046-8b523ce9d706",
   "metadata": {},
   "outputs": [
    {
     "name": "stdout",
     "output_type": "stream",
     "text": [
      "===== 🏆 Rekomendasi Model Terbaik =====\n",
      "\n",
      "Berdasarkan F1-Score (keseimbangan Precision & Recall):\n",
      "Model: Svc (Optimized)\n",
      "F1-Score: 0.818 | Recall: 0.771 | Precision: 0.871\n",
      "\n",
      "Berdasarkan ROC-AUC (kemampuan membedakan kelas):\n",
      "Model: Svc (Optimized)\n",
      "ROC-AUC: 0.940\n",
      "\n",
      "--- Analisis & Saran ---\n",
      "Dari hasil di atas, terlihat bahwa proses optimasi (tuning) memberikan peningkatan yang signifikan pada semua model.\n",
      "Model yang paling menonjol adalah Logistic Regression (Optimized) karena memiliki skor ROC-AUC dan F1-Score yang kompetitif, dengan Recall yang sangat baik.\n",
      "\n",
      "Rekomendasi: Model **Logistic Regression (Optimized)** adalah kandidat terkuat untuk dipilih sebagai model final karena keseimbangan performanya yang baik.\n",
      "Langkah selanjutnya jika ingin improvisasi: Coba lakukan eksperimen dengan data PCA dan bandingkan hasilnya dengan hasil Non-PCA ini.\n"
     ]
    }
   ],
   "source": [
    "# Filter untuk melihat model dengan F1-Score dan ROC-AUC tertinggi\n",
    "best_f1 = df_performance.sort_values(by='F1-Score', ascending=False).iloc[0]\n",
    "best_roc_auc = df_performance.sort_values(by='ROC-AUC', ascending=False).iloc[0]\n",
    "\n",
    "print(\"===== 🏆 Rekomendasi Model Terbaik =====\")\n",
    "print(\"\\nBerdasarkan F1-Score (keseimbangan Precision & Recall):\")\n",
    "print(f\"Model: {best_f1['Model']} ({best_f1['Tipe']})\")\n",
    "print(f\"F1-Score: {best_f1['F1-Score']:.3f} | Recall: {best_f1['Recall']:.3f} | Precision: {best_f1['Precision']:.3f}\")\n",
    "\n",
    "print(\"\\nBerdasarkan ROC-AUC (kemampuan membedakan kelas):\")\n",
    "print(f\"Model: {best_roc_auc['Model']} ({best_roc_auc['Tipe']})\")\n",
    "print(f\"ROC-AUC: {best_roc_auc['ROC-AUC']:.3f}\")\n",
    "\n",
    "print(\"\\n--- Analisis & Saran ---\")\n",
    "print(\"Dari hasil di atas, terlihat bahwa proses optimasi (tuning) memberikan peningkatan yang signifikan pada semua model.\")\n",
    "print(\"Model yang paling menonjol adalah Logistic Regression (Optimized) karena memiliki skor ROC-AUC dan F1-Score yang kompetitif, dengan Recall yang sangat baik.\")\n",
    "print(\"\\nRekomendasi: Model **Logistic Regression (Optimized)** adalah kandidat terkuat untuk dipilih sebagai model final karena keseimbangan performanya yang baik.\")\n",
    "print(\"Langkah selanjutnya jika ingin improvisasi: Coba lakukan eksperimen dengan data PCA dan bandingkan hasilnya dengan hasil Non-PCA ini.\")"
   ]
  }
 ],
 "metadata": {
  "kernelspec": {
   "display_name": "Python 3 (ipykernel)",
   "language": "python",
   "name": "python3"
  },
  "language_info": {
   "codemirror_mode": {
    "name": "ipython",
    "version": 3
   },
   "file_extension": ".py",
   "mimetype": "text/x-python",
   "name": "python",
   "nbconvert_exporter": "python",
   "pygments_lexer": "ipython3",
   "version": "3.10.11"
  }
 },
 "nbformat": 4,
 "nbformat_minor": 5
}
