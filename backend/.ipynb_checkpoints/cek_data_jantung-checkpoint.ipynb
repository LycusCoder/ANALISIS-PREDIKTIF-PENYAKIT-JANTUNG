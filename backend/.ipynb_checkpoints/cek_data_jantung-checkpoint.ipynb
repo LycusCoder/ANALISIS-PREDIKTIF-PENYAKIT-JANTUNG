{
 "cells": [
  {
   "cell_type": "markdown",
   "id": "78b5d110-1995-4145-963e-0d26e773f962",
   "metadata": {},
   "source": [
    "# 🫀 1. Analisis Data Eksplorasi (EDA) - Dataset Penyakit Jantung UCI\n",
    "\n",
    "Selamat datang, kawan! Di notebook ini, kita akan melakukan \"investigasi\" mendalam terhadap dataset klasik **UCI Heart Disease**. Tujuannya adalah untuk memahami karakteristik, distribusi, dan potensi masalah dalam data sebelum kita membangun model prediksi.\n",
    "\n",
    "**Rencana Aksi:**\n",
    "1.  **Setup Library:** Menyiapkan semua \"perkakas\" yang kita butuhkan.\n",
    "2.  **Memuat & Menggabungkan Data:** Dataset ini terdiri dari 4 file terpisah. Kita akan memuat dan menggabungkannya menjadi satu DataFrame utama.\n",
    "3.  **Pembersihan & Transformasi Data:** Membersihkan data dari nilai yang hilang dan mengubah kolom target menjadi format biner (0 = Sehat, 1 = Sakit).\n",
    "4.  **Visualisasi & Pencarian Insight:** Menggali \"harta karun\" dari data melalui visualisasi untuk memahami pola dan hubungan antar fitur."
   ]
  },
  {
   "cell_type": "code",
   "execution_count": null,
   "id": "2d5eea26-0b6f-40dd-9a02-f514693a9bbd",
   "metadata": {},
   "outputs": [],
   "source": [
    "# Import library yang dibutuhkan\n",
    "import pandas as pd\n",
    "import numpy as np\n",
    "import matplotlib.pyplot as plt\n",
    "import seaborn as sns\n",
    "import os\n",
    "\n",
    "# Setting style untuk plot seaborn agar lebih enak dilihat\n",
    "sns.set_style('darkgrid')\n",
    "\n",
    "print(\"✅ Library berhasil di-import.\")"
   ]
  },
  {
   "cell_type": "markdown",
   "id": "0654bc8d-c260-49bf-b9b3-cc6d34911409",
   "metadata": {},
   "source": [
    "# 🛠️ 2. Memuat & Menggabungkan Data dari Berbagai Sumber\n",
    "\n",
    "Dataset UCI Heart Disease ini sebenarnya adalah gabungan data dari 4 lokasi. Kita akan memuat semuanya untuk mendapatkan jumlah data yang lebih besar dan variatif. File-file ini tidak memiliki *header*, jadi kita akan definisikan nama kolomnya secara manual."
   ]
  },
  {
   "cell_type": "code",
   "execution_count": null,
   "id": "fbbd822e-7f81-4aeb-969c-cad386055940",
   "metadata": {},
   "outputs": [],
   "source": [
    "# Definisikan nama kolom berdasarkan dokumentasi dataset\n",
    "column_names = [\n",
    "    'age', 'sex', 'cp', 'trestbps', 'chol', 'fbs', 'restecg',\n",
    "    'thalach', 'exang', 'oldpeak', 'slope', 'ca', 'thal', 'num'\n",
    "]\n",
    "\n",
    "# Fungsi untuk memuat satu file data\n",
    "def load_data(file_path):\n",
    "    try:\n",
    "        # Muat CSV, definisikan nama kolom, dan set '?' sebagai NaN\n",
    "        # Pastikan data/heart+disease/ adalah jalur yang benar\n",
    "        return pd.read_csv(file_path, header=None, names=column_names, na_values='?')\n",
    "    except FileNotFoundError:\n",
    "        print(f\"File {file_path} tidak ditemukan. Melewati...\")\n",
    "        return None\n",
    "\n",
    "# Muat dan gabungkan semua dataset\n",
    "# Pastikan folder 'data/heart+disease/' ada dan berisi file-file ini\n",
    "df_cleveland = load_data('data/heart+disease/processed.cleveland.data')\n",
    "df_hungarian = load_data('data/heart+disease/processed.hungarian.data')\n",
    "df_switzerland = load_data('data/heart+disease/processed.switzerland.data')\n",
    "df_va = load_data('data/heart+disease/processed.va.data')\n",
    "\n",
    "# Gabungkan semua DataFrame yang berhasil dimuat\n",
    "df_full = pd.concat([df for df in [df_cleveland, df_hungarian, df_switzerland, df_va] if df is not None], ignore_index=True)\n",
    "\n",
    "print(f\"✅ Total data mentah yang berhasil digabungkan: {df_full.shape[0]} baris dan {df_full.shape[1]} kolom.\")\n",
    "print(\"\\nLima baris pertama data mentah:\")\n",
    "print(df_full.head())\n",
    "\n",
    "\n",
    "# --- BAGIAN BARU: PEMBESIHAN DAN TRANSFORMASI DATA ---\n",
    "print(\"\\n--- Memulai proses pembersihan dan transformasi data ---\")\n",
    "\n",
    "# Buat salinan DataFrame agar tidak mengubah df_full yang asli\n",
    "df_cleaned = df_full.copy()\n",
    "\n",
    "# 1. Konversi Tipe Data Numerik dan Tangani Missing Values\n",
    "# Kolom yang seharusnya numerik tapi mungkin terbaca objek karena ada '?' atau data non-numerik lain.\n",
    "# Kita akan paksa menjadi numerik, dan NaN akan tetap NaN.\n",
    "for col in ['age', 'trestbps', 'chol', 'thalach', 'oldpeak', 'ca', 'thal']:\n",
    "    df_cleaned[col] = pd.to_numeric(df_cleaned[col], errors='coerce')\n",
    "\n",
    "# Tangani missing values dengan imputasi (mengisi nilai yang hilang)\n",
    "# Untuk kolom numerik: kita bisa pakai median atau mean\n",
    "# Untuk contoh ini, kita pakai median untuk 'age', 'trestbps', 'chol', 'thalach', 'oldpeak'.\n",
    "# Untuk 'ca' dan 'thal' yang merupakan kategori/ordinal, kita bisa pakai modus (most_frequent) atau angka 0 (jika 0 berarti tidak ada).\n",
    "# Dalam dataset ini 'ca' dan 'thal' punya makna kategori numerik (0-3 untuk ca, 3,6,7 untuk thal)\n",
    "# Karena sedikit missing values-nya, kita bisa pakai modus.\n",
    "df_cleaned['age'].fillna(df_cleaned['age'].median(), inplace=True)\n",
    "df_cleaned['trestbps'].fillna(df_cleaned['trestbps'].median(), inplace=True)\n",
    "df_cleaned['chol'].fillna(df_cleaned['chol'].median(), inplace=True)\n",
    "df_cleaned['thalach'].fillna(df_cleaned['thalach'].median(), inplace=True)\n",
    "df_cleaned['oldpeak'].fillna(df_cleaned['oldpeak'].median(), inplace=True)\n",
    "\n",
    "# Untuk 'ca' dan 'thal', yang punya missing values dan merupakan kategori, kita isi dengan modus\n",
    "df_cleaned['ca'].fillna(df_cleaned['ca'].mode()[0], inplace=True)\n",
    "df_cleaned['thal'].fillna(df_cleaned['thal'].mode()[0], inplace=True)\n",
    "\n",
    "# 2. Konversi 'sex' ke 0/1 (0=Female, 1=Male) jika ada teks\n",
    "# Dataset asli heart disease sudah 0/1, tapi jaga-jaga jika ada teks 'Male'/'Female' seperti di contohmu.\n",
    "# Contohnya menunjukkan 1.0 untuk Male.\n",
    "# Jika kolom 'sex' memiliki nilai string 'Male'/'Female', kita konversi.\n",
    "# Namun, berdasarkan dokumentasi dataset heart disease, 'sex' sudah 0/1.\n",
    "# Pastikan tipe datanya float/int.\n",
    "df_cleaned['sex'] = df_cleaned['sex'].astype(float)\n",
    "\n",
    "\n",
    "# 3. Konversi Kolom Kategori Numerik ke float (untuk konsistensi dengan contoh)\n",
    "# Kolom seperti cp, fbs, restecg, exang, slope adalah kategori yang diwakili angka.\n",
    "# Pastikan tipe datanya float/int.\n",
    "for col in ['cp', 'fbs', 'restecg', 'exang', 'slope']:\n",
    "    df_cleaned[col] = df_cleaned[col].astype(float)\n",
    "\n",
    "\n",
    "# 4. Transformasi Target 'num' ke Biner (0 atau 1)\n",
    "# 'num' adalah variabel target, menunjukkan keberadaan penyakit jantung (0-4).\n",
    "# 0 = tidak ada penyakit, >0 = ada penyakit.\n",
    "df_cleaned['num'] = df_cleaned['num'].apply(lambda x: 1 if x > 0 else 0)\n",
    "df_cleaned['num'] = df_cleaned['num'].astype(float) # Jadikan float juga\n",
    "\n",
    "print(\"✅ Data telah dibersihkan dan ditransformasi.\")\n",
    "\n",
    "print(\"\\nLima baris pertama data setelah dibersihkan dan ditransformasi:\")\n",
    "print(df_cleaned.head())\n",
    "print(f\"\\nJumlah missing values setelah pembersihan:\\n{df_cleaned.isnull().sum()}\")\n",
    "\n",
    "\n",
    "# --- FUNGSI EKSPOR: Simpan dataset yang sudah bersih ---\n",
    "output_filename_clean = 'dataset_prediksi_jantung_clean.csv'\n",
    "df_cleaned.to_csv(output_filename_clean, index=False) # index=False agar indeks DataFrame tidak ikut tersimpan di CSV\n",
    "\n",
    "print(f\"\\n✅ Data gabungan dan bersih telah berhasil diekspor ke '{output_filename_clean}'.\")"
   ]
  },
  {
   "cell_type": "markdown",
   "id": "06ad79ac-d80c-4b03-be92-bee21166e8f0",
   "metadata": {},
   "source": [
    "# 🧹 3. Pembersihan Data & Transformasi Target\n",
    "\n",
    "Sekarang kita bersihkan data gabungan ini. Kita akan:\n",
    "1.  Mengecek dan menangani nilai yang hilang (*missing values*).\n",
    "2.  Mengubah kolom target `num` menjadi format biner yang siap digunakan model."
   ]
  },
  {
   "cell_type": "code",
   "execution_count": null,
   "id": "d13ca64e-b5a1-4309-814b-df57d352057b",
   "metadata": {},
   "outputs": [],
   "source": [
    "# Cek info awal dan missing values\n",
    "print(\"===== Info Awal & Missing Values =====\")\n",
    "df_full.info()\n",
    "\n",
    "# Hitung persentase missing values\n",
    "missing_percent = (df_full.isnull().sum() / len(df_full) * 100).sort_values(ascending=False)\n",
    "print(\"\\nPersentase Missing Values:\\n\", missing_percent[missing_percent > 0])\n",
    "\n",
    "# Strategi: Karena banyak kolom memiliki >50% data hilang, imputasi bisa berisiko.\n",
    "# Untuk baseline awal yang bersih, kita akan hapus semua baris yang memiliki nilai hilang.\n",
    "df_cleaned = df_full.dropna().copy()\n",
    "print(f\"\\nJumlah data setelah menghapus baris dengan missing values: {len(df_cleaned)}\")\n",
    "\n",
    "# --- Transformasi Target ---\n",
    "# Kolom 'num' berisi angka 0-4. Kita ubah menjadi biner: 0 (sehat) dan 1 (sakit).\n",
    "df_cleaned['target'] = (df_cleaned['num'] > 0).astype(int)\n",
    "df_cleaned = df_cleaned.drop('num', axis=1)\n",
    "\n",
    "print(\"\\n✅ Data berhasil dibersihkan dan kolom 'target' telah dibuat.\")\n",
    "display(df_cleaned.head())"
   ]
  },
  {
   "cell_type": "markdown",
   "id": "95a22e4d-a2d1-4f2c-acd6-be7886772bab",
   "metadata": {},
   "source": [
    "# 📊 4. Visualisasi & Analisis Data\n",
    "\n",
    "Data sudah bersih, saatnya kita gali *insight*! Kita akan visualisasikan distribusi target, fitur numerik, fitur kategorikal, dan melihat korelasinya."
   ]
  },
  {
   "cell_type": "code",
   "execution_count": null,
   "id": "c6c88458-40b8-4b9e-8fae-f923337c8222",
   "metadata": {},
   "outputs": [],
   "source": [
    "plt.figure(figsize=(8, 6))\n",
    "ax = sns.countplot(x='target', data=df_cleaned)\n",
    "plt.title('Distribusi Kelas Target (Penyakit Jantung)', fontsize=16)\n",
    "plt.xlabel('Penyakit Jantung (0 = Tidak, 1 = Ya)', fontsize=12)\n",
    "plt.ylabel('Jumlah', fontsize=12)\n",
    "\n",
    "# Tambahkan label angka\n",
    "for p in ax.patches:\n",
    "    ax.annotate(f'{p.get_height()}', (p.get_x() + p.get_width() / 2., p.get_height()), \n",
    "                ha='center', va='center', xytext=(0, 5), textcoords='offset points')\n",
    "\n",
    "plt.show()\n",
    "print(\"Insight: Dataset ini cukup seimbang (imbalanced-nya tidak separah dataset stroke). Ini kabar baik!\")"
   ]
  },
  {
   "cell_type": "code",
   "execution_count": null,
   "id": "604c875a-e384-434e-b08a-fb8310d21527",
   "metadata": {},
   "outputs": [],
   "source": [
    "# Pilih kolom numerik untuk dianalisis\n",
    "numerical_features = ['age', 'trestbps', 'chol', 'thalach', 'oldpeak']\n",
    "df_cleaned[numerical_features].hist(bins=20, figsize=(18, 8), layout=(2, 3))\n",
    "plt.suptitle('Distribusi Fitur Numerik', fontsize=18)\n",
    "plt.tight_layout(rect=[0, 0, 1, 0.96])\n",
    "plt.show()"
   ]
  },
  {
   "cell_type": "code",
   "execution_count": null,
   "id": "c37c518c-a124-49f2-aa18-84f109aa9e33",
   "metadata": {},
   "outputs": [],
   "source": [
    "plt.figure(figsize=(20, 6))\n",
    "for i, col in enumerate(numerical_features):\n",
    "    plt.subplot(1, 5, i + 1)\n",
    "    sns.boxplot(x='target', y=col, data=df_cleaned)\n",
    "    plt.title(f'{col} vs. Target', fontsize=12)\n",
    "\n",
    "plt.suptitle('Hubungan Fitur Numerik dengan Target Penyakit Jantung', fontsize=16)\n",
    "plt.tight_layout(rect=[0, 0, 1, 0.94])\n",
    "plt.show()"
   ]
  },
  {
   "cell_type": "markdown",
   "id": "7249fff0-8771-4dd2-afa2-37d3ca6e8582",
   "metadata": {},
   "source": [
    "### 📊 Hubungan Fitur Kategorikal vs Target\n",
    "\n",
    "Sekarang kita mau lihat bagaimana setiap kategori dalam fitur-fitur penting berhubungan dengan hasil akhir (punya penyakit jantung atau tidak). Ini akan membantu kita menjawab pertanyaan seperti:\n",
    "- Apakah jenis kelamin tertentu lebih rentan?\n",
    "- Tipe nyeri dada (`cp`) mana yang paling sering berujung pada diagnosis penyakit jantung?\n",
    "- Apakah gula darah puasa (`fbs`) di atas 120 mg/dl berpengaruh?"
   ]
  },
  {
   "cell_type": "code",
   "execution_count": null,
   "id": "b4417ef5-3ad9-489a-9cba-68211fe2ac2d",
   "metadata": {},
   "outputs": [],
   "source": [
    "# Pilih fitur kategorikal yang paling relevan secara klinis\n",
    "categorical_analysis_features = ['sex', 'cp', 'fbs', 'restecg', 'exang', 'thal']\n",
    "\n",
    "plt.figure(figsize=(20, 10))\n",
    "for i, col in enumerate(categorical_analysis_features):\n",
    "    plt.subplot(2, 3, i + 1)\n",
    "    # Gunakan 'hue' untuk memisahkan berdasarkan kolom 'target'\n",
    "    sns.countplot(x=col, data=df_cleaned, hue='target', palette='viridis', order=df_cleaned[col].value_counts().index)\n",
    "    plt.title(f'Distribusi {col.upper()} vs Penyakit Jantung', fontsize=14)\n",
    "    plt.xlabel(col.upper(), fontsize=12)\n",
    "    plt.ylabel('Jumlah', fontsize=12)\n",
    "    plt.xticks(rotation=15, ha='right')\n",
    "    plt.legend(title='Penyakit Jantung', labels=['Tidak (0)', 'Ya (1)'])\n",
    "\n",
    "plt.suptitle('Analisis Fitur Kategorikal Terhadap Target', fontsize=20, weight='bold')\n",
    "plt.tight_layout(rect=[0, 0, 1, 0.96])\n",
    "plt.show()"
   ]
  },
  {
   "cell_type": "markdown",
   "id": "601254a7-1779-4211-9de2-3ec15904836b",
   "metadata": {},
   "source": [
    "### 🔥 Heatmap Korelasi Antar Fitur\n",
    "\n",
    "Terakhir, kita buat *heatmap* korelasi seperti sebelumnya. Ini cara paling cepat untuk melihat hubungan linear antar semua fitur numerik secara keseluruhan. Fitur yang punya warna mendekati merah tua atau biru tua dengan `target` adalah fitur yang paling berpengaruh.\n",
    "\n",
    "**Catatan:** Untuk membuat heatmap, kita perlu mengubah beberapa fitur kategorikal yang sifatnya biner (seperti `sex`) menjadi angka (0 dan 1) terlebih dahulu."
   ]
  },
  {
   "cell_type": "code",
   "execution_count": null,
   "id": "978ff544-7150-413e-9ba0-abe10ba26a81",
   "metadata": {},
   "outputs": [],
   "source": [
    "# Buat salinan dataframe agar tidak mengubah dataframe asli\n",
    "df_corr = df_cleaned.copy()\n",
    "\n",
    "# --- Encoding Manual untuk Korelasi ---\n",
    "# Ubah beberapa kolom kategorikal menjadi numerik untuk diikutkan dalam korelasi\n",
    "# 'sex' (0: Female, 1: Male) - Asumsi dari dataset aslinya, atau bisa dicek\n",
    "# Jika di data lo Male/Female, sesuaikan. Di dataset UCI, 1=male; 0=female\n",
    "# df_corr['sex'] = df_corr['sex'].map({'Male': 1, 'Female': 0}) # Jika formatnya string\n",
    "\n",
    "# Fitur fbs dan exang biasanya sudah 0/1, jadi aman.\n",
    "\n",
    "# Buat list semua fitur numerik + target untuk korelasi\n",
    "correlation_features = numerical_features + ['sex', 'fbs', 'exang', 'target']\n",
    "\n",
    "# Hitung matriks korelasi\n",
    "correlation_matrix = df_corr[correlation_features].corr()\n",
    "\n",
    "# Buat visualisasi heatmap\n",
    "plt.figure(figsize=(14, 12))\n",
    "sns.heatmap(correlation_matrix, annot=True, cmap='coolwarm', fmt='.2f', linewidths=.5)\n",
    "plt.title('Heatmap Korelasi Fitur', fontsize=18, weight='bold')\n",
    "plt.show()"
   ]
  },
  {
   "cell_type": "markdown",
   "id": "8857a236-1c90-40df-8699-2845618ef6ac",
   "metadata": {},
   "source": [
    "# 📝 5. Ringkasan & Insight Awal\n",
    "\n",
    "Dari eksplorasi ini, kita mendapatkan beberapa temuan kunci."
   ]
  },
  {
   "cell_type": "code",
   "execution_count": null,
   "id": "e5af63a4-1685-483c-9690-6bd20a25c196",
   "metadata": {},
   "outputs": [],
   "source": [
    "# Membuat ringkasan akhir dalam bentuk print\n",
    "print(\"===== 📝 Ringkasan Hasil EDA Penyakit Jantung =====\")\n",
    "print(f\"\\n1. **Ukuran Data:** Setelah penggabungan dan pembersihan, kita memiliki dataset bersih dengan {df_cleaned.shape[0]} baris dan {df_cleaned.shape[1]} kolom.\")\n",
    "print(\"\\n2. **Keseimbangan Target:** Distribusi antara pasien 'Sakit' dan 'Tidak Sakit' cukup seimbang, sehingga metrik Akurasi masih bisa menjadi salah satu pertimbangan dalam evaluasi model.\")\n",
    "print(\"\\n3. **Indikator Potensial:** Berdasarkan visualisasi box plot, fitur-fitur yang tampak sangat berpengaruh dalam membedakan pasien sakit dan sehat adalah:\")\n",
    "print(\"   - `thalach`: Pasien sakit cenderung memiliki detak jantung maksimal yang lebih rendah.\")\n",
    "print(\"   - `oldpeak`: Pasien sakit cenderung memiliki depresi ST yang lebih tinggi akibat olahraga.\")\n",
    "print(\"   - `cp` (tipe nyeri dada) dan `thal` (hasil tes thalium) juga kemungkinan besar menjadi prediktor kuat (perlu analisis lebih lanjut pada fitur kategorikal).\")\n",
    "print(\"\\n4. **Kesiapan Data:** Data ini sekarang sudah bersih dan siap untuk tahap selanjutnya, yaitu `train_model_jantung.ipynb`.\")"
   ]
  },
  {
   "cell_type": "markdown",
   "id": "8bec695e-0b66-44f8-8d6d-aef4dcb240f6",
   "metadata": {},
   "source": [
    "# 💾 6. Simpan Data Bersih\n",
    "\n",
    "Langkah terakhir di notebook ini! Kita akan menyimpan DataFrame `df_cleaned` yang sudah bersih ke dalam sebuah file CSV baru. File inilah yang akan menjadi sumber data utama untuk notebook *modeling* kita selanjutnya, `train_model_jantung.ipynb`."
   ]
  },
  {
   "cell_type": "code",
   "execution_count": null,
   "id": "5c10f70d-4408-4cda-a3e4-765a787a1bcd",
   "metadata": {},
   "outputs": [],
   "source": [
    "# Tentukan nama file output\n",
    "output_csv_path = 'data/df_cleaned_jantung.csv'\n",
    "\n",
    "# Simpan DataFrame ke file CSV\n",
    "# index=False agar nomor index dari DataFrame tidak ikut tersimpan sebagai kolom baru\n",
    "df_cleaned.to_csv(output_csv_path, index=False)\n",
    "\n",
    "print(f\"✅ Data bersih berhasil disimpan di: '{output_csv_path}'\")\n",
    "print(\"\\nSekarang, kita siap untuk melanjutkan ke tahap modeling!\")"
   ]
  }
 ],
 "metadata": {
  "kernelspec": {
   "display_name": "Python 3 (ipykernel)",
   "language": "python",
   "name": "python3"
  },
  "language_info": {
   "codemirror_mode": {
    "name": "ipython",
    "version": 3
   },
   "file_extension": ".py",
   "mimetype": "text/x-python",
   "name": "python",
   "nbconvert_exporter": "python",
   "pygments_lexer": "ipython3",
   "version": "3.10.11"
  }
 },
 "nbformat": 4,
 "nbformat_minor": 5
}
